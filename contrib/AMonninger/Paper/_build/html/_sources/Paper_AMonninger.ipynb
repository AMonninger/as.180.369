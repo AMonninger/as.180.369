{
 "cells": [
  {
   "cell_type": "markdown",
   "id": "845617bf-ad51-41aa-b1dc-56072bd4c083",
   "metadata": {},
   "source": [
    "---\n",
    "title: my analysis of....\n",
    "date: 2024-09-30\n",
    "authors:\n",
    "- name: Adrian Monninger\n",
    "  roles: \n",
    "    - Conceptualization\n",
    "    - Visualization\n",
    "---"
   ]
  },
  {
   "cell_type": "markdown",
   "id": "e255db62-5f3e-4ca6-9873-3d497778d61f",
   "metadata": {},
   "source": [
    "{cite:t}`Hemmelgarn2014-eq`"
   ]
  },
  {
   "cell_type": "markdown",
   "id": "12d2ec99-5012-4908-bd66-5bad4283d4ab",
   "metadata": {},
   "source": [
    "```{bibliography}\n",
    "```"
   ]
  },
  {
   "cell_type": "code",
   "execution_count": null,
   "id": "59b8b3b3-457d-485d-a0d5-b633ce80b798",
   "metadata": {},
   "outputs": [],
   "source": []
  }
 ],
 "metadata": {
  "kernelspec": {
   "display_name": "econark",
   "language": "python",
   "name": "econark"
  },
  "language_info": {
   "codemirror_mode": {
    "name": "ipython",
    "version": 3
   },
   "file_extension": ".py",
   "mimetype": "text/x-python",
   "name": "python",
   "nbconvert_exporter": "python",
   "pygments_lexer": "ipython3",
   "version": "3.11.8"
  }
 },
 "nbformat": 4,
 "nbformat_minor": 5
}
